{
 "cells": [
  {
   "cell_type": "code",
   "execution_count": 2,
   "id": "523d4994",
   "metadata": {},
   "outputs": [],
   "source": [
    "import pandas as pd\n",
    "import matplotlib.pyplot as plt\n",
    "from sklearn.linear_model import LinearRegression\n",
    "data=pd.read_csv('lsd_math_score_data.csv')"
   ]
  },
  {
   "cell_type": "code",
   "execution_count": 3,
   "id": "1995d12f",
   "metadata": {},
   "outputs": [
    {
     "name": "stdout",
     "output_type": "stream",
     "text": [
      "   Time_Delay_in_Minutes  LSD_ppm  Avg_Math_Test_Score\n",
      "0                      5     1.17                78.93\n",
      "1                     15     2.97                58.20\n",
      "2                     30     3.26                67.47\n",
      "3                     60     4.69                37.47\n",
      "4                    120     5.83                45.65\n",
      "5                    240     6.00                32.92\n",
      "6                    480     6.41                29.97\n"
     ]
    }
   ],
   "source": [
    "print(data)"
   ]
  },
  {
   "cell_type": "code",
   "execution_count": 4,
   "id": "34483b66",
   "metadata": {},
   "outputs": [
    {
     "data": {
      "text/plain": [
       "pandas.core.frame.DataFrame"
      ]
     },
     "execution_count": 4,
     "metadata": {},
     "output_type": "execute_result"
    }
   ],
   "source": [
    "type(data)"
   ]
  },
  {
   "cell_type": "code",
   "execution_count": 5,
   "id": "140f5658",
   "metadata": {},
   "outputs": [
    {
     "name": "stdout",
     "output_type": "stream",
     "text": [
      "0    78.93\n",
      "1    58.20\n",
      "2    67.47\n",
      "3    37.47\n",
      "4    45.65\n",
      "5    32.92\n",
      "6    29.97\n",
      "Name: Avg_Math_Test_Score, dtype: float64\n"
     ]
    }
   ],
   "source": [
    "onlyMathScores=data['Avg_Math_Test_Score']\n",
    "print(onlyMathScores)"
   ]
  },
  {
   "cell_type": "markdown",
   "id": "cdb9bffe",
   "metadata": {},
   "source": [
    "how to add columns to data \n"
   ]
  },
  {
   "cell_type": "code",
   "execution_count": 6,
   "id": "5f05b21d",
   "metadata": {},
   "outputs": [
    {
     "name": "stdout",
     "output_type": "stream",
     "text": [
      "   Time_Delay_in_Minutes  LSD_ppm  Avg_Math_Test_Score       test_Subjects\n",
      "0                      5     1.17                78.93  Jeniifer calliperz\n",
      "1                     15     2.97                58.20               Maths\n",
      "2                     30     3.26                67.47             physics\n",
      "3                     60     4.69                37.47           Chemistry\n",
      "4                    120     5.83                45.65                 C++\n",
      "5                    240     6.00                32.92              Docker\n",
      "6                    480     6.41                29.97                  ML\n"
     ]
    }
   ],
   "source": [
    "data['test_Subjects']='Jeniifer calliperz','Maths','physics','Chemistry','C++','Docker','ML'\n",
    "print(data)"
   ]
  },
  {
   "cell_type": "code",
   "execution_count": 7,
   "id": "b204a16f",
   "metadata": {},
   "outputs": [
    {
     "name": "stdout",
     "output_type": "stream",
     "text": [
      "   Time_Delay_in_Minutes  LSD_ppm  Avg_Math_Test_Score       test_Subjects  \\\n",
      "0                      5     1.17                78.93  Jeniifer calliperz   \n",
      "1                     15     2.97                58.20               Maths   \n",
      "2                     30     3.26                67.47             physics   \n",
      "3                     60     4.69                37.47           Chemistry   \n",
      "4                    120     5.83                45.65                 C++   \n",
      "5                    240     6.00                32.92              Docker   \n",
      "6                    480     6.41                29.97                  ML   \n",
      "\n",
      "   high_score  \n",
      "0         100  \n",
      "1         100  \n",
      "2         100  \n",
      "3         100  \n",
      "4         100  \n",
      "5         100  \n",
      "6         100  \n"
     ]
    }
   ],
   "source": [
    "data['high_score']=100\n",
    "print(data)"
   ]
  },
  {
   "cell_type": "markdown",
   "id": "2840683d",
   "metadata": {},
   "source": [
    "q) to write the high score =avg test score +100 "
   ]
  },
  {
   "cell_type": "code",
   "execution_count": 8,
   "id": "0f95abc6",
   "metadata": {},
   "outputs": [
    {
     "name": "stdout",
     "output_type": "stream",
     "text": [
      "   Time_Delay_in_Minutes  LSD_ppm  Avg_Math_Test_Score       test_Subjects  \\\n",
      "0                      5     1.17                78.93  Jeniifer calliperz   \n",
      "1                     15     2.97                58.20               Maths   \n",
      "2                     30     3.26                67.47             physics   \n",
      "3                     60     4.69                37.47           Chemistry   \n",
      "4                    120     5.83                45.65                 C++   \n",
      "5                    240     6.00                32.92              Docker   \n",
      "6                    480     6.41                29.97                  ML   \n",
      "\n",
      "   high_score  \n",
      "0      178.93  \n",
      "1      158.20  \n",
      "2      167.47  \n",
      "3      137.47  \n",
      "4      145.65  \n",
      "5      132.92  \n",
      "6      129.97  \n"
     ]
    }
   ],
   "source": [
    "data['high_score']=data['Avg_Math_Test_Score']+data['high_score']\n",
    "print(data)"
   ]
  },
  {
   "cell_type": "markdown",
   "id": "ef8c22db",
   "metadata": {},
   "source": [
    "# challenge =square the values in high_score"
   ]
  },
  {
   "cell_type": "code",
   "execution_count": 9,
   "id": "c4ab2eeb",
   "metadata": {},
   "outputs": [],
   "source": [
    "data['high_score']=data['high_score']**2"
   ]
  },
  {
   "cell_type": "code",
   "execution_count": 10,
   "id": "c1416d1b",
   "metadata": {},
   "outputs": [
    {
     "name": "stdout",
     "output_type": "stream",
     "text": [
      "   Time_Delay_in_Minutes  LSD_ppm  Avg_Math_Test_Score       test_Subjects  \\\n",
      "0                      5     1.17                78.93  Jeniifer calliperz   \n",
      "1                     15     2.97                58.20               Maths   \n",
      "2                     30     3.26                67.47             physics   \n",
      "3                     60     4.69                37.47           Chemistry   \n",
      "4                    120     5.83                45.65                 C++   \n",
      "5                    240     6.00                32.92              Docker   \n",
      "6                    480     6.41                29.97                  ML   \n",
      "\n",
      "   high_score  \n",
      "0  32015.9449  \n",
      "1  25027.2400  \n",
      "2  28046.2009  \n",
      "3  18898.0009  \n",
      "4  21213.9225  \n",
      "5  17667.7264  \n",
      "6  16892.2009  \n"
     ]
    }
   ],
   "source": [
    "print(data)"
   ]
  },
  {
   "cell_type": "code",
   "execution_count": 11,
   "id": "d2cfe2b1",
   "metadata": {},
   "outputs": [
    {
     "name": "stdout",
     "output_type": "stream",
     "text": [
      "<class 'pandas.core.series.Series'>\n"
     ]
    }
   ],
   "source": [
    "print(type(onlyMathScores))"
   ]
  },
  {
   "cell_type": "code",
   "execution_count": 12,
   "id": "98028933",
   "metadata": {},
   "outputs": [
    {
     "name": "stdout",
     "output_type": "stream",
     "text": [
      "   LSD_ppm  Avg_Math_Test_Score\n",
      "0     1.17                78.93\n",
      "1     2.97                58.20\n",
      "2     3.26                67.47\n",
      "3     4.69                37.47\n",
      "4     5.83                45.65\n",
      "5     6.00                32.92\n",
      "6     6.41                29.97\n"
     ]
    }
   ],
   "source": [
    "# challenge: to make the clean data . containing 1)LSD_ppm   2) Avg_Math_Test_Score\n",
    "cleandata=data[['LSD_ppm','Avg_Math_Test_Score']]\n",
    "print(cleandata)"
   ]
  },
  {
   "cell_type": "code",
   "execution_count": 13,
   "id": "c89f1433",
   "metadata": {},
   "outputs": [
    {
     "data": {
      "text/plain": [
       "pandas.core.frame.DataFrame"
      ]
     },
     "execution_count": 13,
     "metadata": {},
     "output_type": "execute_result"
    }
   ],
   "source": [
    "type(cleandata)"
   ]
  },
  {
   "cell_type": "markdown",
   "id": "d2c420c0",
   "metadata": {},
   "source": [
    "challenge:  create a variable called X\n",
    "            1)set X equal to the value LSD_ppm\n",
    "            2)make sure X is a data frame\n",
    "            3)print the value of X\n",
    "            4)show type of x"
   ]
  },
  {
   "cell_type": "code",
   "execution_count": 14,
   "id": "e01a894a",
   "metadata": {},
   "outputs": [],
   "source": [
    "X=data[['LSD_ppm']]"
   ]
  },
  {
   "cell_type": "code",
   "execution_count": 15,
   "id": "edc9824c",
   "metadata": {},
   "outputs": [
    {
     "name": "stdout",
     "output_type": "stream",
     "text": [
      "   LSD_ppm\n",
      "0     1.17\n",
      "1     2.97\n",
      "2     3.26\n",
      "3     4.69\n",
      "4     5.83\n",
      "5     6.00\n",
      "6     6.41\n"
     ]
    }
   ],
   "source": [
    "print(X)"
   ]
  },
  {
   "cell_type": "code",
   "execution_count": 16,
   "id": "38a3f631",
   "metadata": {},
   "outputs": [
    {
     "data": {
      "text/plain": [
       "pandas.core.frame.DataFrame"
      ]
     },
     "execution_count": 16,
     "metadata": {},
     "output_type": "execute_result"
    }
   ],
   "source": [
    "type(X)"
   ]
  },
  {
   "cell_type": "markdown",
   "id": "a4cf3e29",
   "metadata": {},
   "source": [
    "# how to delete the column form the data\\\n",
    "it is done by using the del keyword"
   ]
  },
  {
   "cell_type": "code",
   "execution_count": 17,
   "id": "f8f7a4fd",
   "metadata": {},
   "outputs": [],
   "source": [
    "#del data['test_Subjects']\n",
    "#print(data)\n",
    "\n"
   ]
  },
  {
   "cell_type": "markdown",
   "id": "e7956e45",
   "metadata": {},
   "source": [
    "how to define function and execute it"
   ]
  },
  {
   "cell_type": "code",
   "execution_count": 18,
   "id": "2dad9ebc",
   "metadata": {},
   "outputs": [],
   "source": [
    "def get_milk():\n",
    "    print(\"Open the door\")\n",
    "    print(\"Walk to the store\")\n",
    "    print(\"Buy milk on the ground floor\")\n",
    "    print(\"Return with milk galore\")"
   ]
  },
  {
   "cell_type": "code",
   "execution_count": 19,
   "id": "f66207da",
   "metadata": {},
   "outputs": [
    {
     "name": "stdout",
     "output_type": "stream",
     "text": [
      "Open the door\n",
      "Walk to the store\n",
      "Buy milk on the ground floor\n",
      "Return with milk galore\n"
     ]
    }
   ],
   "source": [
    "get_milk()"
   ]
  },
  {
   "cell_type": "markdown",
   "id": "12e108ba",
   "metadata": {},
   "source": [
    "Part -2 : Arguments and parameters"
   ]
  },
  {
   "cell_type": "code",
   "execution_count": 20,
   "id": "fff3bbaf",
   "metadata": {},
   "outputs": [],
   "source": [
    "def fill_the_fridge(amount):\n",
    "    print(\"Open the door\")\n",
    "    print(\"Walk to the store\")\n",
    "    print(\"Buy \" + amount +\" cartons  on the ground floor\")\n",
    "    print(\"Return with milk galore\")"
   ]
  },
  {
   "cell_type": "code",
   "execution_count": 21,
   "id": "eab070bd",
   "metadata": {},
   "outputs": [
    {
     "name": "stdout",
     "output_type": "stream",
     "text": [
      "Open the door\n",
      "Walk to the store\n",
      "Buy five cartons  on the ground floor\n",
      "Return with milk galore\n"
     ]
    }
   ],
   "source": [
    "fill_the_fridge('five')"
   ]
  },
  {
   "cell_type": "code",
   "execution_count": 22,
   "id": "b4ce8e1c",
   "metadata": {},
   "outputs": [
    {
     "data": {
      "text/html": [
       "<div>\n",
       "<style scoped>\n",
       "    .dataframe tbody tr th:only-of-type {\n",
       "        vertical-align: middle;\n",
       "    }\n",
       "\n",
       "    .dataframe tbody tr th {\n",
       "        vertical-align: top;\n",
       "    }\n",
       "\n",
       "    .dataframe thead th {\n",
       "        text-align: right;\n",
       "    }\n",
       "</style>\n",
       "<table border=\"1\" class=\"dataframe\">\n",
       "  <thead>\n",
       "    <tr style=\"text-align: right;\">\n",
       "      <th></th>\n",
       "      <th>Time_Delay_in_Minutes</th>\n",
       "      <th>LSD_ppm</th>\n",
       "      <th>Avg_Math_Test_Score</th>\n",
       "      <th>test_Subjects</th>\n",
       "      <th>high_score</th>\n",
       "    </tr>\n",
       "  </thead>\n",
       "  <tbody>\n",
       "    <tr>\n",
       "      <th>0</th>\n",
       "      <td>5</td>\n",
       "      <td>1.17</td>\n",
       "      <td>78.93</td>\n",
       "      <td>Jeniifer calliperz</td>\n",
       "      <td>32015.9449</td>\n",
       "    </tr>\n",
       "    <tr>\n",
       "      <th>1</th>\n",
       "      <td>15</td>\n",
       "      <td>2.97</td>\n",
       "      <td>58.20</td>\n",
       "      <td>Maths</td>\n",
       "      <td>25027.2400</td>\n",
       "    </tr>\n",
       "    <tr>\n",
       "      <th>2</th>\n",
       "      <td>30</td>\n",
       "      <td>3.26</td>\n",
       "      <td>67.47</td>\n",
       "      <td>physics</td>\n",
       "      <td>28046.2009</td>\n",
       "    </tr>\n",
       "    <tr>\n",
       "      <th>3</th>\n",
       "      <td>60</td>\n",
       "      <td>4.69</td>\n",
       "      <td>37.47</td>\n",
       "      <td>Chemistry</td>\n",
       "      <td>18898.0009</td>\n",
       "    </tr>\n",
       "    <tr>\n",
       "      <th>4</th>\n",
       "      <td>120</td>\n",
       "      <td>5.83</td>\n",
       "      <td>45.65</td>\n",
       "      <td>C++</td>\n",
       "      <td>21213.9225</td>\n",
       "    </tr>\n",
       "    <tr>\n",
       "      <th>5</th>\n",
       "      <td>240</td>\n",
       "      <td>6.00</td>\n",
       "      <td>32.92</td>\n",
       "      <td>Docker</td>\n",
       "      <td>17667.7264</td>\n",
       "    </tr>\n",
       "    <tr>\n",
       "      <th>6</th>\n",
       "      <td>480</td>\n",
       "      <td>6.41</td>\n",
       "      <td>29.97</td>\n",
       "      <td>ML</td>\n",
       "      <td>16892.2009</td>\n",
       "    </tr>\n",
       "  </tbody>\n",
       "</table>\n",
       "</div>"
      ],
      "text/plain": [
       "   Time_Delay_in_Minutes  LSD_ppm  Avg_Math_Test_Score       test_Subjects  \\\n",
       "0                      5     1.17                78.93  Jeniifer calliperz   \n",
       "1                     15     2.97                58.20               Maths   \n",
       "2                     30     3.26                67.47             physics   \n",
       "3                     60     4.69                37.47           Chemistry   \n",
       "4                    120     5.83                45.65                 C++   \n",
       "5                    240     6.00                32.92              Docker   \n",
       "6                    480     6.41                29.97                  ML   \n",
       "\n",
       "   high_score  \n",
       "0  32015.9449  \n",
       "1  25027.2400  \n",
       "2  28046.2009  \n",
       "3  18898.0009  \n",
       "4  21213.9225  \n",
       "5  17667.7264  \n",
       "6  16892.2009  "
      ]
     },
     "execution_count": 22,
     "metadata": {},
     "output_type": "execute_result"
    }
   ],
   "source": [
    "data"
   ]
  },
  {
   "cell_type": "code",
   "execution_count": 23,
   "id": "e9135acb",
   "metadata": {},
   "outputs": [
    {
     "name": "stdout",
     "output_type": "stream",
     "text": [
      "   Time_Delay_in_Minutes\n",
      "0                      5\n",
      "1                     15\n",
      "2                     30\n",
      "3                     60\n",
      "4                    120\n",
      "5                    240\n",
      "6                    480\n",
      "   LSD_ppm\n",
      "0     1.17\n",
      "1     2.97\n",
      "2     3.26\n",
      "3     4.69\n",
      "4     5.83\n",
      "5     6.00\n",
      "6     6.41\n"
     ]
    }
   ],
   "source": [
    "time=data[['Time_Delay_in_Minutes']]\n",
    "LSD=data[['LSD_ppm']]\n",
    "score=data[['Avg_Math_Test_Score']]\n",
    "print(time)\n",
    "print(LSD)"
   ]
  },
  {
   "cell_type": "markdown",
   "id": "e5e2b979",
   "metadata": {},
   "source": [
    "plot the graph of the time and LSD and give color to the line of graph"
   ]
  },
  {
   "cell_type": "code",
   "execution_count": 24,
   "id": "38534345",
   "metadata": {},
   "outputs": [
    {
     "data": {
      "image/png": "[encoded data removed]",
      "text/plain": [
       "<Figure size 432x288 with 1 Axes>"
      ]
     },
     "metadata": {
      "needs_background": "light"
     },
     "output_type": "display_data"
    }
   ],
   "source": [
    "plt.plot(time,LSD,color='green',linewidth=3)\n",
    "plt.show()"
   ]
  },
  {
   "cell_type": "markdown",
   "id": "2016983f",
   "metadata": {},
   "source": [
    "Naming of the graph"
   ]
  },
  {
   "cell_type": "code",
   "execution_count": 25,
   "id": "41f8440a",
   "metadata": {},
   "outputs": [
    {
     "data": {
      "image/png": "[encoded data removed]",
      "text/plain": [
       "<Figure size 432x288 with 1 Axes>"
      ]
     },
     "metadata": {
      "needs_background": "light"
     },
     "output_type": "display_data"
    }
   ],
   "source": [
    "\n",
    "plt.title('Tissue concentration of the LSD overtime',fontsize=17)\n",
    "plt.xlabel('Time in minutes',fontsize=13)\n",
    "plt.ylabel('Tissue LSD ppm',fontsize=13)\n",
    "#add text to the coordinates\n",
    "plt.text(x=0,y=5,s='Wagner at et al.(1968)')\n",
    "#To set the font size of the numbers on the x and y axis\n",
    "plt.xticks(fontsize=14)\n",
    "plt.yticks(fontsize=14)\n",
    "# give the range of the x and y axis\n",
    "plt.xlim(0,500)\n",
    "plt.ylim(1,7)\n",
    "# give the style to the graph\n",
    "plt.style.use('classic')\n",
    "\n",
    "plt.plot(time,LSD,color='green',linewidth=3)\n",
    "plt.show()"
   ]
  },
  {
   "cell_type": "code",
   "execution_count": 26,
   "id": "e687791f",
   "metadata": {},
   "outputs": [
    {
     "name": "stdout",
     "output_type": "stream",
     "text": [
      "Theta1 :  -9.009466415296785\n",
      "Intercept :  89.12387376799308\n",
      "R-square :  0.8778349707775889\n"
     ]
    }
   ],
   "source": [
    "regr=LinearRegression()\n",
    "regr.fit(LSD,score)\n",
    "print('Theta1 : ' ,regr.coef_[0][0])\n",
    "print('Intercept : ',regr.intercept_[0])\n",
    "print('R-square : ',regr.score(LSD,score))\n",
    "predicted_score=regr.predict(LSD)"
   ]
  },
  {
   "cell_type": "code",
   "execution_count": 28,
   "id": "5d42529d",
   "metadata": {},
   "outputs": [
    {
     "data": {
      "image/png": "[encoded data removed]",
      "text/plain": [
       "<Figure size 432x288 with 1 Axes>"
      ]
     },
     "metadata": {
      "needs_background": "light"
     },
     "output_type": "display_data"
    }
   ],
   "source": [
    "%matplotlib inline\n",
    "plt.scatter(LSD,score,color='blue',s=100,alpha=0.7)\n",
    "plt.title('Arithmetic VS LSD-25')\n",
    "plt.xlabel('Tissue LSD ')\n",
    "plt.ylabel('Performance Score')\n",
    "plt.style.use('fivethirtyeight')\n",
    "plt.ylim(25,85)\n",
    "plt.xlim(1,6.5)\n",
    "plt.plot(LSD,predicted_score)\n",
    "plt.show()"
   ]
  },
  {
   "cell_type": "code",
   "execution_count": null,
   "id": "c97eef1d",
   "metadata": {},
   "outputs": [],
   "source": []
  }
 ],
 "metadata": {
  "kernelspec": {
   "display_name": "Python 3",
   "language": "python",
   "name": "python3"
  },
  "language_info": {
   "codemirror_mode": {
    "name": "ipython",
    "version": 3
   },
   "file_extension": ".py",
   "mimetype": "text/x-python",
   "name": "python",
   "nbconvert_exporter": "python",
   "pygments_lexer": "ipython3",
   "version": "3.8.8"
  }
 },
 "nbformat": 4,
 "nbformat_minor": 5
}
